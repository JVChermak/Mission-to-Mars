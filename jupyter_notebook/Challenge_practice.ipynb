{
 "cells": [
  {
   "cell_type": "code",
   "execution_count": 1,
   "metadata": {},
   "outputs": [],
   "source": [
    "# Import dependencies\n",
    "from splinter import Browser\n",
    "from bs4 import BeautifulSoup\n",
    "import pandas as pd"
   ]
  },
  {
   "cell_type": "code",
   "execution_count": 2,
   "metadata": {},
   "outputs": [],
   "source": [
    "# Set executable path and initialize the chrome browser in splinter\n",
    "browser = Browser('chrome', executable_path='/usr/local/bin/chromedriver', headless=False)"
   ]
  },
  {
   "cell_type": "code",
   "execution_count": 3,
   "metadata": {},
   "outputs": [
    {
     "data": {
      "text/plain": [
       "False"
      ]
     },
     "execution_count": 3,
     "metadata": {},
     "output_type": "execute_result"
    }
   ],
   "source": [
    "url = 'https://astrogeology.usgs.gov/search/results?q=hemisphere+enhanced&k1=target&v1=Mars'\n",
    "browser.visit(url)\n",
    "# Optional delay for loading the page\n",
    "browser.is_element_present_by_css(\"ul.item_list li.slide\", wait_time=1)"
   ]
  },
  {
   "cell_type": "code",
   "execution_count": 4,
   "metadata": {},
   "outputs": [],
   "source": [
    "# Set up the HTML parser\n",
    "html = browser.html\n",
    "img_soup = BeautifulSoup(html, 'html.parser')"
   ]
  },
  {
   "cell_type": "code",
   "execution_count": 5,
   "metadata": {},
   "outputs": [],
   "source": [
    "# Find and select the link to see the full image\n",
    "hemi_items = browser.find_link_by_partial_text('Hemisphere')\n",
    "hemi_titles = img_soup.find_all('h3')"
   ]
  },
  {
   "cell_type": "code",
   "execution_count": 6,
   "metadata": {},
   "outputs": [
    {
     "name": "stdout",
     "output_type": "stream",
     "text": [
      "<splinter.driver.webdriver.WebDriverElement object at 0x123a290f0>\n",
      "<splinter.driver.webdriver.WebDriverElement object at 0x123a29160>\n",
      "<splinter.driver.webdriver.WebDriverElement object at 0x123a29208>\n",
      "<splinter.driver.webdriver.WebDriverElement object at 0x123a292b0>\n"
     ]
    }
   ],
   "source": [
    "for hemi in hemi_items:\n",
    "    name = hemi.text\n",
    "    print(hemi)"
   ]
  },
  {
   "cell_type": "code",
   "execution_count": 7,
   "metadata": {},
   "outputs": [],
   "source": [
    "hemi_items[0].click()"
   ]
  },
  {
   "cell_type": "code",
   "execution_count": 8,
   "metadata": {},
   "outputs": [],
   "source": [
    "# Set up the HTML parser\n",
    "html = browser.html\n",
    "img_soup = BeautifulSoup(html, 'html.parser')"
   ]
  },
  {
   "cell_type": "code",
   "execution_count": 9,
   "metadata": {},
   "outputs": [
    {
     "data": {
      "text/plain": [
       "'/cache/images/cfa62af2557222a02478f1fcd781d445_cerberus_enhanced.tif_full.jpg'"
      ]
     },
     "execution_count": 9,
     "metadata": {},
     "output_type": "execute_result"
    }
   ],
   "source": [
    "# Find the relative image url\n",
    "hemi_url_rel = img_soup.find('img', class_='wide-image').get('src')\n",
    "# Use the base url to create an absolute url\n",
    "hemi_url = f'https://astrogeology.usgs.gov{hemi_url_rel}'\n",
    "hemi_url_rel"
   ]
  },
  {
   "cell_type": "code",
   "execution_count": 10,
   "metadata": {},
   "outputs": [
    {
     "data": {
      "text/plain": [
       "'https://astrogeology.usgs.gov/cache/images/cfa62af2557222a02478f1fcd781d445_cerberus_enhanced.tif_full.jpg'"
      ]
     },
     "execution_count": 10,
     "metadata": {},
     "output_type": "execute_result"
    }
   ],
   "source": [
    "hemi_url"
   ]
  },
  {
   "cell_type": "code",
   "execution_count": 11,
   "metadata": {},
   "outputs": [],
   "source": [
    "browser.back()"
   ]
  },
  {
   "cell_type": "code",
   "execution_count": 12,
   "metadata": {},
   "outputs": [],
   "source": [
    "hemi_dict = {}\n",
    "hemisphere_data = []\n",
    "for x in range(0,4):\n",
    "    url = 'https://astrogeology.usgs.gov/search/results?q=hemisphere+enhanced&k1=target&v1=Mars'\n",
    "    browser.visit(url)\n",
    "    # Optional delay for loading the page\n",
    "    browser.is_element_present_by_css(\"ul.item_list li.slide\", wait_time=1)\n",
    "\n",
    "    # Set up the HTML parser\n",
    "    html = browser.html\n",
    "    img_soup = BeautifulSoup(html, 'html.parser')\n",
    "\n",
    "    # Find the links to see the full images and get titles\n",
    "    hemi_items = browser.find_link_by_partial_text('Hemisphere')\n",
    "    hemi_titles = img_soup.find_all('h3')\n",
    "\n",
    "    # Select link for each hemisphere\n",
    "    hemi_items[x].click()\n",
    "\n",
    "    # Set up the HTML parser\n",
    "    html = browser.html\n",
    "    img_soup = BeautifulSoup(html, 'html.parser')\n",
    "\n",
    "    # Find the relative image url\n",
    "    hemi_url_rel = img_soup.find('img', class_='wide-image').get('src')\n",
    "    # Use the base url to create an absolute url\n",
    "    hemi_url = f'https://astrogeology.usgs.gov{hemi_url_rel}'\n",
    "\n",
    "    # Store image url and title in dictionary hemi_data\n",
    "    hemi_dict = {\n",
    "        'img_url': hemi_url,\n",
    "        'title': hemi_titles[x].text\n",
    "    }\n",
    "    hemisphere_data.append(hemi_dict)\n",
    "browser.back()"
   ]
  },
  {
   "cell_type": "code",
   "execution_count": 13,
   "metadata": {},
   "outputs": [
    {
     "name": "stdout",
     "output_type": "stream",
     "text": [
      "https://astrogeology.usgs.gov/cache/images/cfa62af2557222a02478f1fcd781d445_cerberus_enhanced.tif_full.jpg\n",
      "https://astrogeology.usgs.gov/cache/images/3cdd1cbf5e0813bba925c9030d13b62e_schiaparelli_enhanced.tif_full.jpg\n",
      "https://astrogeology.usgs.gov/cache/images/ae209b4e408bb6c3e67b6af38168cf28_syrtis_major_enhanced.tif_full.jpg\n",
      "https://astrogeology.usgs.gov/cache/images/7cf2da4bf549ed01c17f206327be4db7_valles_marineris_enhanced.tif_full.jpg\n"
     ]
    }
   ],
   "source": [
    "for i in range(0,4):\n",
    "    url = hemisphere_data[i]['img_url']\n",
    "    print(url)"
   ]
  },
  {
   "cell_type": "code",
   "execution_count": 14,
   "metadata": {},
   "outputs": [
    {
     "data": {
      "text/plain": [
       "'Cerberus Hemisphere Enhanced'"
      ]
     },
     "execution_count": 14,
     "metadata": {},
     "output_type": "execute_result"
    }
   ],
   "source": [
    "hemisphere_data[0]['title']"
   ]
  },
  {
   "cell_type": "code",
   "execution_count": 15,
   "metadata": {},
   "outputs": [],
   "source": [
    "browser.quit()"
   ]
  },
  {
   "cell_type": "code",
   "execution_count": null,
   "metadata": {},
   "outputs": [],
   "source": []
  }
 ],
 "metadata": {
  "kernelspec": {
   "display_name": "Python 3",
   "language": "python",
   "name": "python3"
  },
  "language_info": {
   "codemirror_mode": {
    "name": "ipython",
    "version": 3
   },
   "file_extension": ".py",
   "mimetype": "text/x-python",
   "name": "python",
   "nbconvert_exporter": "python",
   "pygments_lexer": "ipython3",
   "version": "3.6.9"
  }
 },
 "nbformat": 4,
 "nbformat_minor": 2
}
